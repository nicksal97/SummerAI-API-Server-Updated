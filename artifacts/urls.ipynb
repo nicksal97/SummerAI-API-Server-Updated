{
 "cells": [
  {
   "cell_type": "code",
   "execution_count": null,
   "id": "84d3e2fc",
   "metadata": {},
   "outputs": [],
   "source": [
    "from django.urls import path, include\n",
    "from rest_framework.routers import DefaultRouter\n",
    "from .views import ProcessedResultViewSet\n",
    "\n",
    "router = DefaultRouter()\n",
    "router.register(r'', ProcessedResultViewSet, basename='artifacts')\n",
    "\n",
    "urlpatterns = [\n",
    "    path('', include(router.urls)),\n",
    "]\n"
   ]
  }
 ],
 "metadata": {
  "language_info": {
   "name": "python"
  }
 },
 "nbformat": 4,
 "nbformat_minor": 5
}
